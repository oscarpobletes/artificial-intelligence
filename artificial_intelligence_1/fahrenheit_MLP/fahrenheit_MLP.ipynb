{
  "nbformat": 4,
  "nbformat_minor": 0,
  "metadata": {
    "colab": {
      "provenance": []
    },
    "kernelspec": {
      "name": "python3",
      "display_name": "Python 3"
    },
    "language_info": {
      "name": "python"
    }
  },
  "cells": [
    {
      "cell_type": "markdown",
      "source": [
        "\n",
        "#Fahrenheit prediction with MLP\n",
        "Óscar Poblete Sáenz <br> Course: Introduction to Artificial Intelligence<br>\n",
        "Teacher: Elizabeth Guevara Martinez<br>\n",
        "Universidad Anáhuac <br>"
      ],
      "metadata": {
        "id": "OovOFCJ5qlor"
      }
    },
    {
      "cell_type": "code",
      "metadata": {
        "id": "Hy_pAhzDZ4gy"
      },
      "source": [
        "# Import libraries\n",
        "import tensorflow as tf # Tensorflow\n",
        "import numpy as np # Linear algebra\n",
        "import matplotlib.pyplot as plt #Graph"
      ],
      "execution_count": 1,
      "outputs": []
    },
    {
      "cell_type": "code",
      "metadata": {
        "id": "MIrfX72vaL1z"
      },
      "source": [
        "# Data\n",
        "celsius = np.array([-40, -10, 0, 8, 15, 22, 38], dtype=float)\n",
        "fahrenheit = np.array([-40, 14, 32, 46, 59, 72, 100], dtype=float)"
      ],
      "execution_count": 2,
      "outputs": []
    },
    {
      "cell_type": "code",
      "metadata": {
        "id": "RIG6Y5jEafFL"
      },
      "source": [
        "# Define model\n",
        "hidden_1 = tf.keras.layers.Dense(units=3, input_shape=[1])\n",
        "hidden_2 = tf.keras.layers.Dense(units=3)\n",
        "output = tf.keras.layers.Dense(units=1)\n",
        "model = tf.keras.Sequential([hidden_1, hidden_2, output])"
      ],
      "execution_count": 5,
      "outputs": []
    },
    {
      "cell_type": "code",
      "metadata": {
        "id": "1_WHzWidbN_8"
      },
      "source": [
        "# Compile model\n",
        "model.compile(\n",
        "    optimizer=tf.keras.optimizers.Adam(0.1),\n",
        "    loss='mean_squared_error'\n",
        ")"
      ],
      "execution_count": 6,
      "outputs": []
    },
    {
      "cell_type": "code",
      "metadata": {
        "colab": {
          "base_uri": "https://localhost:8080/"
        },
        "id": "4D-NuUTnbabR",
        "outputId": "2efc8c99-fdae-4659-8a88-8387885d9240"
      },
      "source": [
        "# Train model\n",
        "print(\"Training...\")\n",
        "historial = model.fit(celsius, fahrenheit, epochs=1000, verbose=False)\n",
        "print(\"Model has been trained!\")"
      ],
      "execution_count": 8,
      "outputs": [
        {
          "output_type": "stream",
          "name": "stdout",
          "text": [
            "Training...\n",
            "Model has been trained!\n"
          ]
        }
      ]
    },
    {
      "cell_type": "code",
      "metadata": {
        "colab": {
          "base_uri": "https://localhost:8080/",
          "height": 296
        },
        "id": "px43cF3Nb3mG",
        "outputId": "b07d83e9-1408-4849-fb78-9a5b32652f31"
      },
      "source": [
        "#Graph loss\n",
        "plt.xlabel(\"Epoch\")\n",
        "plt.ylabel(\"Loss\")\n",
        "plt.plot(historial.history[\"loss\"])"
      ],
      "execution_count": 9,
      "outputs": [
        {
          "output_type": "execute_result",
          "data": {
            "text/plain": [
              "[<matplotlib.lines.Line2D at 0x7fc19c51b370>]"
            ]
          },
          "metadata": {},
          "execution_count": 9
        },
        {
          "output_type": "display_data",
          "data": {
            "text/plain": [
              "<Figure size 432x288 with 1 Axes>"
            ],
            "image/png": "[encoded data removed]"
          },
          "metadata": {
            "needs_background": "light"
          }
        }
      ]
    },
    {
      "cell_type": "code",
      "metadata": {
        "colab": {
          "base_uri": "https://localhost:8080/"
        },
        "id": "esVvhzjMcV9f",
        "outputId": "ffd0f253-c634-43de-d46a-3f3c2b8a377e"
      },
      "source": [
        "print(\"Lets make a prediction!\")\n",
        "result = model.predict([100.0]) #100 celsius is 212, so that was close.\n",
        "print(\"The result is \" + str(result) + \" fahrenheit!\")"
      ],
      "execution_count": 11,
      "outputs": [
        {
          "output_type": "stream",
          "name": "stdout",
          "text": [
            "Lets make a prediction!\n",
            "1/1 [==============================] - 0s 118ms/step\n",
            "The result is [[211.74742]] fahrenheit!\n"
          ]
        }
      ]
    },
    {
      "cell_type": "code",
      "metadata": {
        "colab": {
          "base_uri": "https://localhost:8080/"
        },
        "id": "FVDejrBgcokc",
        "outputId": "5f200347-89d2-4dc8-9090-0ffa271f7c43"
      },
      "source": [
        "print(\"Internal variables of the model\")\n",
        "print(hidden_1.get_weights())\n",
        "print(hidden_2.get_weights())\n",
        "print(output.get_weights())"
      ],
      "execution_count": 12,
      "outputs": [
        {
          "output_type": "stream",
          "name": "stdout",
          "text": [
            "Internal variables of the model\n",
            "[array([[-0.6939999 ,  0.01823717, -0.20960827]], dtype=float32), array([-3.489276 ,  3.5431433, -2.810464 ], dtype=float32)]\n",
            "[array([[ 1.7811481 , -0.08027373, -1.077477  ],\n",
            "       [ 0.09701995, -0.47355554,  0.64606106],\n",
            "       [ 0.21477495,  1.399365  , -0.9919325 ]], dtype=float32), array([-2.1914637, -3.8431203,  3.8437529], dtype=float32)]\n",
            "[array([[-0.2964115],\n",
            "       [-1.2531451],\n",
            "       [ 1.147479 ]], dtype=float32), array([3.33738], dtype=float32)]\n"
          ]
        }
      ]
    }
  ]
}