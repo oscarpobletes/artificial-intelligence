{
  "cells": [
    {
      "cell_type": "markdown",
      "metadata": {
        "id": "CXB59gnJJMc-"
      },
      "source": [
        "#Clothes classification with CNN (Deep Learning)\n",
        "Óscar Poblete Sáenz <br>\n",
        "Course: Introduction to Artificial Intelligence <br>\n",
        "Teacher: Elizabeth Guevara Martinez<br>\n",
        "Universidad Anáhuac <br>\n",
        "\n",
        "The goal is to develop a model to detect and classify types of garments from images.\n",
        "There are 48,000 training images and 10,000 test images that belong to **10 classes or labels**:\n",
        "\n",
        "#Classes <br>\n",
        "\n",
        "0 T-shirt/top<br>\n",
        "1 Trouser<br>\n",
        "2 Pullover<br>\n",
        "3 Dress<br>\n",
        "4 Coat<br>\n",
        "5 Sandal<br>\n",
        "6 Shirt<br>\n",
        "7 Sneaker<br>\n",
        "8 Bag<br>\n",
        "9 Ankle boot<br>\n",
        "\n",
        "#Sources: \n",
        "\n",
        "The original dataset was downloaded from https://github.com/zalandoresearch/fashion-mnist\n"
      ]
    },
    {
      "cell_type": "code",
      "execution_count": 1,
      "metadata": {
        "id": "fhKgSFNdJSuo"
      },
      "outputs": [],
      "source": [
        "# Import libraries\n",
        "import tensorflow.keras # Tensorflow\n",
        "import numpy as np # Linear algebra\n",
        "import pandas as pd # Data manipulation and analysis\n",
        "import matplotlib.pyplot as plt # Graph\n",
        "import random"
      ]
    },
    {
      "cell_type": "code",
      "execution_count": 2,
      "metadata": {
        "colab": {
          "base_uri": "https://localhost:8080/"
        },
        "id": "EAMZR_ADJjHw",
        "outputId": "61bc0295-92ae-471c-af3c-e4b1845f669f"
      },
      "outputs": [
        {
          "data": {
            "text/plain": [
              "(10000, 785)"
            ]
          },
          "execution_count": 2,
          "metadata": {},
          "output_type": "execute_result"
        }
      ],
      "source": [
        "# Test data\n",
        "test_df=pd.read_csv('fashion-mnist_test.csv')\n",
        "\n",
        "# Convert to floats\n",
        "test_data=np.array(test_df,dtype='float32')\n",
        "\n",
        "# Data size\n",
        "test_data.shape"
      ]
    },
    {
      "cell_type": "code",
      "execution_count": 3,
      "metadata": {
        "id": "T6B61l_rJ9VY"
      },
      "outputs": [],
      "source": [
        "# Split values from the test set\n",
        "x_test=test_data[:,1:]/255 # It's already an array, no need to use iloc. Save all values except labels\n",
        "# Divide by 255 to normalize"
      ]
    },
    {
      "cell_type": "code",
      "execution_count": 8,
      "metadata": {
        "colab": {
          "base_uri": "https://localhost:8080/",
          "height": 300
        },
        "id": "OzNNccbNIlK3",
        "outputId": "6a17fb8f-adda-4ba7-8305-4cc4d3449b5a"
      },
      "outputs": [
        {
          "name": "stdout",
          "output_type": "stream",
          "text": [
            "Image of the garment\n"
          ]
        },
        {
          "data": {
            "text/plain": [
              "<matplotlib.image.AxesImage at 0x7f372f6adf70>"
            ]
          },
          "execution_count": 8,
          "metadata": {},
          "output_type": "execute_result"
        },
        {
          "data": {
            "image/png": "[encoded data removed]",
            "text/plain": [
              "<Figure size 432x288 with 1 Axes>"
            ]
          },
          "metadata": {
            "needs_background": "light"
          },
          "output_type": "display_data"
        }
      ],
      "source": [
        "# Adjust vector dimensions. from 784 to 28\n",
        "image=x_test[random.randint(0,1000),:].reshape((28,28)) # Select random image\n",
        "\n",
        "# Show image\n",
        "print(\"Image of the garment\")\n",
        "plt.imshow(image)"
      ]
    },
    {
      "cell_type": "code",
      "execution_count": 9,
      "metadata": {
        "id": "f6nVK9grL5Vj"
      },
      "outputs": [],
      "source": [
        "# Load model obtained in fashion_CNN.ipynb\n",
        "model = tensorflow.keras.models.load_model('/content/modelFashion.h5')"
      ]
    },
    {
      "cell_type": "code",
      "execution_count": 10,
      "metadata": {
        "colab": {
          "base_uri": "https://localhost:8080/"
        },
        "id": "1D0wAnaSL-CG",
        "outputId": "012090e1-8049-4d0c-d3a8-ce419f01916e"
      },
      "outputs": [
        {
          "name": "stdout",
          "output_type": "stream",
          "text": [
            "Model: \"sequential\"\n",
            "_________________________________________________________________\n",
            " Layer (type)                Output Shape              Param #   \n",
            "=================================================================\n",
            " conv2d (Conv2D)             (None, 26, 26, 32)        320       \n",
            "                                                                 \n",
            " max_pooling2d (MaxPooling2D  (None, 13, 13, 32)       0         \n",
            " )                                                               \n",
            "                                                                 \n",
            " dropout (Dropout)           (None, 13, 13, 32)        0         \n",
            "                                                                 \n",
            " flatten (Flatten)           (None, 5408)              0         \n",
            "                                                                 \n",
            " dense (Dense)               (None, 32)                173088    \n",
            "                                                                 \n",
            " dense_1 (Dense)             (None, 10)                330       \n",
            "                                                                 \n",
            "=================================================================\n",
            "Total params: 173,738\n",
            "Trainable params: 173,738\n",
            "Non-trainable params: 0\n",
            "_________________________________________________________________\n"
          ]
        }
      ],
      "source": [
        "# CNN architecture\n",
        "model.summary()"
      ]
    },
    {
      "cell_type": "code",
      "execution_count": 11,
      "metadata": {
        "colab": {
          "base_uri": "https://localhost:8080/"
        },
        "id": "keKEcL6ceVQF",
        "outputId": "19409be6-cec1-459e-b71c-2a69dcc014f6"
      },
      "outputs": [
        {
          "data": {
            "text/plain": [
              "(None, 28, 28, 1)"
            ]
          },
          "execution_count": 11,
          "metadata": {},
          "output_type": "execute_result"
        }
      ],
      "source": [
        "# Input layer\n",
        "model.input_shape"
      ]
    },
    {
      "cell_type": "code",
      "execution_count": 12,
      "metadata": {
        "id": "0wbXLPNyLFvb"
      },
      "outputs": [],
      "source": [
        "# Generate an array to save images and test the model\n",
        "data = np.ndarray(shape=(1, 28, 28), dtype=np.float32)\n",
        "# Load the image in an array\n",
        "data[0] = image"
      ]
    },
    {
      "cell_type": "code",
      "execution_count": 13,
      "metadata": {
        "colab": {
          "base_uri": "https://localhost:8080/"
        },
        "id": "rLSxMNr_L2Wg",
        "outputId": "dbce7eed-a317-4ec6-f255-5d99c0b7f424"
      },
      "outputs": [
        {
          "name": "stdout",
          "output_type": "stream",
          "text": [
            "1/1 [==============================] - 0s 346ms/step\n",
            "[1.8436001e-05 1.1498943e-06 6.2535313e-05 1.5913089e-05 2.1115262e-05\n",
            " 9.9858367e-01 8.9185796e-06 6.9060181e-05 1.2191399e-03 8.3952656e-08]\n"
          ]
        }
      ],
      "source": [
        "# Make prediction\n",
        "prediction=model.predict(data)[0]\n",
        "print(prediction)"
      ]
    },
    {
      "cell_type": "code",
      "execution_count": 14,
      "metadata": {
        "id": "dD0S0J4LMBq6"
      },
      "outputs": [],
      "source": [
        "# Load labels\n",
        "# Separating with line break to make a list of values\n",
        "with open('labels.txt', 'r') as f:\n",
        "  labels = f.read().split('\\n')"
      ]
    },
    {
      "cell_type": "code",
      "execution_count": 15,
      "metadata": {
        "colab": {
          "base_uri": "https://localhost:8080/"
        },
        "id": "pL3MrNnsMEYg",
        "outputId": "891e12d9-145c-48b7-9d46-aac51f674d5f"
      },
      "outputs": [
        {
          "name": "stdout",
          "output_type": "stream",
          "text": [
            "The most likely class is '5 Sandal' with a confidence of 99.858%\n"
          ]
        }
      ],
      "source": [
        "# Print model prediction\n",
        "index = np.argmax(prediction) # Take the maximum of the probabilities to obtain the class\n",
        "# It will tell us the most probable class for the image we loaded\n",
        "print(\"The most likely class is '{}' with a confidence of {}%\".format(labels[index], np.round(prediction[index]*100, 3)))"
      ]
    }
  ],
  "metadata": {
    "colab": {
      "provenance": []
    },
    "kernelspec": {
      "display_name": "Python 3",
      "name": "python3"
    },
    "language_info": {
      "name": "python"
    }
  },
  "nbformat": 4,
  "nbformat_minor": 0
}
