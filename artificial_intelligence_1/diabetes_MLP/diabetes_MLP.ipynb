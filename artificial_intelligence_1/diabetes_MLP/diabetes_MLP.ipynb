{
  "nbformat": 4,
  "nbformat_minor": 0,
  "metadata": {
    "colab": {
      "provenance": []
    },
    "kernelspec": {
      "name": "python3",
      "display_name": "Python 3"
    },
    "language_info": {
      "name": "python"
    }
  },
  "cells": [
    {
      "cell_type": "markdown",
      "source": [
        "#Diabetes prediction with MLP\n",
        "Óscar Poblete Sáenz <br> Course: Introduction to Artificial Intelligence<br>\n",
        "Teacher: Elizabeth Guevara Martinez<br>\n",
        "Universidad Anáhuac <br>"
      ],
      "metadata": {
        "id": "yJwhPTbzZ20g"
      }
    },
    {
      "cell_type": "code",
      "execution_count": null,
      "metadata": {
        "id": "DO9JaGa9ZjAR"
      },
      "outputs": [],
      "source": [
        "#Import libraries\n",
        "import numpy as np # Linear algebra\n",
        "import pandas as pd # Data analysis and manipulation\n",
        "from sklearn.model_selection import train_test_split # Split data into train and test sets\n",
        "from sklearn.preprocessing import StandardScaler # Preprocess and standardize data\n",
        "from sklearn.neural_network import MLPClassifier #MLP, we could also use regression\n",
        "from sklearn.metrics import confusion_matrix #Confusion matrix\n"
      ]
    },
    {
      "cell_type": "code",
      "source": [
        "#Retrieve file data and display certain amount of rows\n",
        "data=pd.read_csv('diabetes.csv')\n",
        "data.head(20)"
      ],
      "metadata": {
        "colab": {
          "base_uri": "https://localhost:8080/",
          "height": 677
        },
        "id": "Yj57slkMbzlo",
        "outputId": "9bcc26ee-de08-43d4-a343-de7a628f7f21"
      },
      "execution_count": null,
      "outputs": [
        {
          "output_type": "execute_result",
          "data": {
            "text/plain": [
              "    Pregnancies  Glucose  BloodPressure  SkinThickness  Insulin   BMI  \\\n",
              "0             6      148             72             35        0  33.6   \n",
              "1             1       85             66             29        0  26.6   \n",
              "2             8      183             64              0        0  23.3   \n",
              "3             1       89             66             23       94  28.1   \n",
              "4             0      137             40             35      168  43.1   \n",
              "5             5      116             74              0        0  25.6   \n",
              "6             3       78             50             32       88  31.0   \n",
              "7            10      115              0              0        0  35.3   \n",
              "8             2      197             70             45      543  30.5   \n",
              "9             8      125             96              0        0   0.0   \n",
              "10            4      110             92              0        0  37.6   \n",
              "11           10      168             74              0        0  38.0   \n",
              "12           10      139             80              0        0  27.1   \n",
              "13            1      189             60             23      846  30.1   \n",
              "14            5      166             72             19      175  25.8   \n",
              "15            7      100              0              0        0  30.0   \n",
              "16            0      118             84             47      230  45.8   \n",
              "17            7      107             74              0        0  29.6   \n",
              "18            1      103             30             38       83  43.3   \n",
              "19            1      115             70             30       96  34.6   \n",
              "\n",
              "    DiabetesPedigreeFunction  Age  Outcome  \n",
              "0                      0.627   50        1  \n",
              "1                      0.351   31        0  \n",
              "2                      0.672   32        1  \n",
              "3                      0.167   21        0  \n",
              "4                      2.288   33        1  \n",
              "5                      0.201   30        0  \n",
              "6                      0.248   26        1  \n",
              "7                      0.134   29        0  \n",
              "8                      0.158   53        1  \n",
              "9                      0.232   54        1  \n",
              "10                     0.191   30        0  \n",
              "11                     0.537   34        1  \n",
              "12                     1.441   57        0  \n",
              "13                     0.398   59        1  \n",
              "14                     0.587   51        1  \n",
              "15                     0.484   32        1  \n",
              "16                     0.551   31        1  \n",
              "17                     0.254   31        1  \n",
              "18                     0.183   33        0  \n",
              "19                     0.529   32        1  "
            ],
            "text/html": [
              "\n",
              "  <div id=\"df-e636afa9-514a-4b51-b479-f206cd2365e5\">\n",
              "    <div class=\"colab-df-container\">\n",
              "      <div>\n",
              "<style scoped>\n",
              "    .dataframe tbody tr th:only-of-type {\n",
              "        vertical-align: middle;\n",
              "    }\n",
              "\n",
              "    .dataframe tbody tr th {\n",
              "        vertical-align: top;\n",
              "    }\n",
              "\n",
              "    .dataframe thead th {\n",
              "        text-align: right;\n",
              "    }\n",
              "</style>\n",
              "<table border=\"1\" class=\"dataframe\">\n",
              "  <thead>\n",
              "    <tr style=\"text-align: right;\">\n",
              "      <th></th>\n",
              "      <th>Pregnancies</th>\n",
              "      <th>Glucose</th>\n",
              "      <th>BloodPressure</th>\n",
              "      <th>SkinThickness</th>\n",
              "      <th>Insulin</th>\n",
              "      <th>BMI</th>\n",
              "      <th>DiabetesPedigreeFunction</th>\n",
              "      <th>Age</th>\n",
              "      <th>Outcome</th>\n",
              "    </tr>\n",
              "  </thead>\n",
              "  <tbody>\n",
              "    <tr>\n",
              "      <th>0</th>\n",
              "      <td>6</td>\n",
              "      <td>148</td>\n",
              "      <td>72</td>\n",
              "      <td>35</td>\n",
              "      <td>0</td>\n",
              "      <td>33.6</td>\n",
              "      <td>0.627</td>\n",
              "      <td>50</td>\n",
              "      <td>1</td>\n",
              "    </tr>\n",
              "    <tr>\n",
              "      <th>1</th>\n",
              "      <td>1</td>\n",
              "      <td>85</td>\n",
              "      <td>66</td>\n",
              "      <td>29</td>\n",
              "      <td>0</td>\n",
              "      <td>26.6</td>\n",
              "      <td>0.351</td>\n",
              "      <td>31</td>\n",
              "      <td>0</td>\n",
              "    </tr>\n",
              "    <tr>\n",
              "      <th>2</th>\n",
              "      <td>8</td>\n",
              "      <td>183</td>\n",
              "      <td>64</td>\n",
              "      <td>0</td>\n",
              "      <td>0</td>\n",
              "      <td>23.3</td>\n",
              "      <td>0.672</td>\n",
              "      <td>32</td>\n",
              "      <td>1</td>\n",
              "    </tr>\n",
              "    <tr>\n",
              "      <th>3</th>\n",
              "      <td>1</td>\n",
              "      <td>89</td>\n",
              "      <td>66</td>\n",
              "      <td>23</td>\n",
              "      <td>94</td>\n",
              "      <td>28.1</td>\n",
              "      <td>0.167</td>\n",
              "      <td>21</td>\n",
              "      <td>0</td>\n",
              "    </tr>\n",
              "    <tr>\n",
              "      <th>4</th>\n",
              "      <td>0</td>\n",
              "      <td>137</td>\n",
              "      <td>40</td>\n",
              "      <td>35</td>\n",
              "      <td>168</td>\n",
              "      <td>43.1</td>\n",
              "      <td>2.288</td>\n",
              "      <td>33</td>\n",
              "      <td>1</td>\n",
              "    </tr>\n",
              "    <tr>\n",
              "      <th>5</th>\n",
              "      <td>5</td>\n",
              "      <td>116</td>\n",
              "      <td>74</td>\n",
              "      <td>0</td>\n",
              "      <td>0</td>\n",
              "      <td>25.6</td>\n",
              "      <td>0.201</td>\n",
              "      <td>30</td>\n",
              "      <td>0</td>\n",
              "    </tr>\n",
              "    <tr>\n",
              "      <th>6</th>\n",
              "      <td>3</td>\n",
              "      <td>78</td>\n",
              "      <td>50</td>\n",
              "      <td>32</td>\n",
              "      <td>88</td>\n",
              "      <td>31.0</td>\n",
              "      <td>0.248</td>\n",
              "      <td>26</td>\n",
              "      <td>1</td>\n",
              "    </tr>\n",
              "    <tr>\n",
              "      <th>7</th>\n",
              "      <td>10</td>\n",
              "      <td>115</td>\n",
              "      <td>0</td>\n",
              "      <td>0</td>\n",
              "      <td>0</td>\n",
              "      <td>35.3</td>\n",
              "      <td>0.134</td>\n",
              "      <td>29</td>\n",
              "      <td>0</td>\n",
              "    </tr>\n",
              "    <tr>\n",
              "      <th>8</th>\n",
              "      <td>2</td>\n",
              "      <td>197</td>\n",
              "      <td>70</td>\n",
              "      <td>45</td>\n",
              "      <td>543</td>\n",
              "      <td>30.5</td>\n",
              "      <td>0.158</td>\n",
              "      <td>53</td>\n",
              "      <td>1</td>\n",
              "    </tr>\n",
              "    <tr>\n",
              "      <th>9</th>\n",
              "      <td>8</td>\n",
              "      <td>125</td>\n",
              "      <td>96</td>\n",
              "      <td>0</td>\n",
              "      <td>0</td>\n",
              "      <td>0.0</td>\n",
              "      <td>0.232</td>\n",
              "      <td>54</td>\n",
              "      <td>1</td>\n",
              "    </tr>\n",
              "    <tr>\n",
              "      <th>10</th>\n",
              "      <td>4</td>\n",
              "      <td>110</td>\n",
              "      <td>92</td>\n",
              "      <td>0</td>\n",
              "      <td>0</td>\n",
              "      <td>37.6</td>\n",
              "      <td>0.191</td>\n",
              "      <td>30</td>\n",
              "      <td>0</td>\n",
              "    </tr>\n",
              "    <tr>\n",
              "      <th>11</th>\n",
              "      <td>10</td>\n",
              "      <td>168</td>\n",
              "      <td>74</td>\n",
              "      <td>0</td>\n",
              "      <td>0</td>\n",
              "      <td>38.0</td>\n",
              "      <td>0.537</td>\n",
              "      <td>34</td>\n",
              "      <td>1</td>\n",
              "    </tr>\n",
              "    <tr>\n",
              "      <th>12</th>\n",
              "      <td>10</td>\n",
              "      <td>139</td>\n",
              "      <td>80</td>\n",
              "      <td>0</td>\n",
              "      <td>0</td>\n",
              "      <td>27.1</td>\n",
              "      <td>1.441</td>\n",
              "      <td>57</td>\n",
              "      <td>0</td>\n",
              "    </tr>\n",
              "    <tr>\n",
              "      <th>13</th>\n",
              "      <td>1</td>\n",
              "      <td>189</td>\n",
              "      <td>60</td>\n",
              "      <td>23</td>\n",
              "      <td>846</td>\n",
              "      <td>30.1</td>\n",
              "      <td>0.398</td>\n",
              "      <td>59</td>\n",
              "      <td>1</td>\n",
              "    </tr>\n",
              "    <tr>\n",
              "      <th>14</th>\n",
              "      <td>5</td>\n",
              "      <td>166</td>\n",
              "      <td>72</td>\n",
              "      <td>19</td>\n",
              "      <td>175</td>\n",
              "      <td>25.8</td>\n",
              "      <td>0.587</td>\n",
              "      <td>51</td>\n",
              "      <td>1</td>\n",
              "    </tr>\n",
              "    <tr>\n",
              "      <th>15</th>\n",
              "      <td>7</td>\n",
              "      <td>100</td>\n",
              "      <td>0</td>\n",
              "      <td>0</td>\n",
              "      <td>0</td>\n",
              "      <td>30.0</td>\n",
              "      <td>0.484</td>\n",
              "      <td>32</td>\n",
              "      <td>1</td>\n",
              "    </tr>\n",
              "    <tr>\n",
              "      <th>16</th>\n",
              "      <td>0</td>\n",
              "      <td>118</td>\n",
              "      <td>84</td>\n",
              "      <td>47</td>\n",
              "      <td>230</td>\n",
              "      <td>45.8</td>\n",
              "      <td>0.551</td>\n",
              "      <td>31</td>\n",
              "      <td>1</td>\n",
              "    </tr>\n",
              "    <tr>\n",
              "      <th>17</th>\n",
              "      <td>7</td>\n",
              "      <td>107</td>\n",
              "      <td>74</td>\n",
              "      <td>0</td>\n",
              "      <td>0</td>\n",
              "      <td>29.6</td>\n",
              "      <td>0.254</td>\n",
              "      <td>31</td>\n",
              "      <td>1</td>\n",
              "    </tr>\n",
              "    <tr>\n",
              "      <th>18</th>\n",
              "      <td>1</td>\n",
              "      <td>103</td>\n",
              "      <td>30</td>\n",
              "      <td>38</td>\n",
              "      <td>83</td>\n",
              "      <td>43.3</td>\n",
              "      <td>0.183</td>\n",
              "      <td>33</td>\n",
              "      <td>0</td>\n",
              "    </tr>\n",
              "    <tr>\n",
              "      <th>19</th>\n",
              "      <td>1</td>\n",
              "      <td>115</td>\n",
              "      <td>70</td>\n",
              "      <td>30</td>\n",
              "      <td>96</td>\n",
              "      <td>34.6</td>\n",
              "      <td>0.529</td>\n",
              "      <td>32</td>\n",
              "      <td>1</td>\n",
              "    </tr>\n",
              "  </tbody>\n",
              "</table>\n",
              "</div>\n",
              "      <button class=\"colab-df-convert\" onclick=\"convertToInteractive('df-e636afa9-514a-4b51-b479-f206cd2365e5')\"\n",
              "              title=\"Convert this dataframe to an interactive table.\"\n",
              "              style=\"display:none;\">\n",
              "        \n",
              "  <svg xmlns=\"http://www.w3.org/2000/svg\" height=\"24px\"viewBox=\"0 0 24 24\"\n",
              "       width=\"24px\">\n",
              "    <path d=\"M0 0h24v24H0V0z\" fill=\"none\"/>\n",
              "    <path d=\"M18.56 5.44l.94 2.06.94-2.06 2.06-.94-2.06-.94-.94-2.06-.94 2.06-2.06.94zm-11 1L8.5 8.5l.94-2.06 2.06-.94-2.06-.94L8.5 2.5l-.94 2.06-2.06.94zm10 10l.94 2.06.94-2.06 2.06-.94-2.06-.94-.94-2.06-.94 2.06-2.06.94z\"/><path d=\"M17.41 7.96l-1.37-1.37c-.4-.4-.92-.59-1.43-.59-.52 0-1.04.2-1.43.59L10.3 9.45l-7.72 7.72c-.78.78-.78 2.05 0 2.83L4 21.41c.39.39.9.59 1.41.59.51 0 1.02-.2 1.41-.59l7.78-7.78 2.81-2.81c.8-.78.8-2.07 0-2.86zM5.41 20L4 18.59l7.72-7.72 1.47 1.35L5.41 20z\"/>\n",
              "  </svg>\n",
              "      </button>\n",
              "      \n",
              "  <style>\n",
              "    .colab-df-container {\n",
              "      display:flex;\n",
              "      flex-wrap:wrap;\n",
              "      gap: 12px;\n",
              "    }\n",
              "\n",
              "    .colab-df-convert {\n",
              "      background-color: #E8F0FE;\n",
              "      border: none;\n",
              "      border-radius: 50%;\n",
              "      cursor: pointer;\n",
              "      display: none;\n",
              "      fill: #1967D2;\n",
              "      height: 32px;\n",
              "      padding: 0 0 0 0;\n",
              "      width: 32px;\n",
              "    }\n",
              "\n",
              "    .colab-df-convert:hover {\n",
              "      background-color: #E2EBFA;\n",
              "      box-shadow: 0px 1px 2px rgba(60, 64, 67, 0.3), 0px 1px 3px 1px rgba(60, 64, 67, 0.15);\n",
              "      fill: #174EA6;\n",
              "    }\n",
              "\n",
              "    [theme=dark] .colab-df-convert {\n",
              "      background-color: #3B4455;\n",
              "      fill: #D2E3FC;\n",
              "    }\n",
              "\n",
              "    [theme=dark] .colab-df-convert:hover {\n",
              "      background-color: #434B5C;\n",
              "      box-shadow: 0px 1px 3px 1px rgba(0, 0, 0, 0.15);\n",
              "      filter: drop-shadow(0px 1px 2px rgba(0, 0, 0, 0.3));\n",
              "      fill: #FFFFFF;\n",
              "    }\n",
              "  </style>\n",
              "\n",
              "      <script>\n",
              "        const buttonEl =\n",
              "          document.querySelector('#df-e636afa9-514a-4b51-b479-f206cd2365e5 button.colab-df-convert');\n",
              "        buttonEl.style.display =\n",
              "          google.colab.kernel.accessAllowed ? 'block' : 'none';\n",
              "\n",
              "        async function convertToInteractive(key) {\n",
              "          const element = document.querySelector('#df-e636afa9-514a-4b51-b479-f206cd2365e5');\n",
              "          const dataTable =\n",
              "            await google.colab.kernel.invokeFunction('convertToInteractive',\n",
              "                                                     [key], {});\n",
              "          if (!dataTable) return;\n",
              "\n",
              "          const docLinkHtml = 'Like what you see? Visit the ' +\n",
              "            '<a target=\"_blank\" href=https://colab.research.google.com/notebooks/data_table.ipynb>data table notebook</a>'\n",
              "            + ' to learn more about interactive tables.';\n",
              "          element.innerHTML = '';\n",
              "          dataTable['output_type'] = 'display_data';\n",
              "          await google.colab.output.renderOutput(dataTable, element);\n",
              "          const docLink = document.createElement('div');\n",
              "          docLink.innerHTML = docLinkHtml;\n",
              "          element.appendChild(docLink);\n",
              "        }\n",
              "      </script>\n",
              "    </div>\n",
              "  </div>\n",
              "  "
            ]
          },
          "metadata": {},
          "execution_count": 2
        }
      ]
    },
    {
      "cell_type": "code",
      "source": [
        "# Descriptive statistics for databases\n",
        "# Mean\n",
        "data['Age'].mean()"
      ],
      "metadata": {
        "colab": {
          "base_uri": "https://localhost:8080/"
        },
        "id": "R9CN0oThbEHI",
        "outputId": "b787e39d-49f8-449d-eebe-7e3807b7d1a5"
      },
      "execution_count": null,
      "outputs": [
        {
          "output_type": "execute_result",
          "data": {
            "text/plain": [
              "33.240885416666664"
            ]
          },
          "metadata": {},
          "execution_count": 3
        }
      ]
    },
    {
      "cell_type": "code",
      "source": [
        "# Standard deviation\n",
        "data['Age'].std()"
      ],
      "metadata": {
        "colab": {
          "base_uri": "https://localhost:8080/"
        },
        "id": "VzxjMGnMbUQJ",
        "outputId": "5ee5112a-7ca2-4591-aca2-5a5dc830efa2"
      },
      "execution_count": null,
      "outputs": [
        {
          "output_type": "execute_result",
          "data": {
            "text/plain": [
              "11.760231540678685"
            ]
          },
          "metadata": {},
          "execution_count": 4
        }
      ]
    },
    {
      "cell_type": "code",
      "source": [
        "# Histogram\n",
        "data['Age'].hist()"
      ],
      "metadata": {
        "colab": {
          "base_uri": "https://localhost:8080/",
          "height": 282
        },
        "id": "Ym9eOGS8bdmK",
        "outputId": "58deb820-52e1-4606-fa6b-48cfc0895b51"
      },
      "execution_count": null,
      "outputs": [
        {
          "output_type": "execute_result",
          "data": {
            "text/plain": [
              "<matplotlib.axes._subplots.AxesSubplot at 0x7fee08b8a250>"
            ]
          },
          "metadata": {},
          "execution_count": 5
        },
        {
          "output_type": "display_data",
          "data": {
            "text/plain": [
              "<Figure size 432x288 with 1 Axes>"
            ],
            "image/png": "[encoded data removed]"
          },
          "metadata": {
            "needs_background": "light"
          }
        }
      ]
    },
    {
      "cell_type": "code",
      "source": [
        "# Check data types\n",
        "data.info()"
      ],
      "metadata": {
        "colab": {
          "base_uri": "https://localhost:8080/"
        },
        "id": "fiAnT-j8bplX",
        "outputId": "90a4324d-b646-461f-dcda-1a2e3f3a7cd5"
      },
      "execution_count": null,
      "outputs": [
        {
          "output_type": "stream",
          "name": "stdout",
          "text": [
            "<class 'pandas.core.frame.DataFrame'>\n",
            "RangeIndex: 768 entries, 0 to 767\n",
            "Data columns (total 9 columns):\n",
            " #   Column                    Non-Null Count  Dtype  \n",
            "---  ------                    --------------  -----  \n",
            " 0   Pregnancies               768 non-null    int64  \n",
            " 1   Glucose                   768 non-null    int64  \n",
            " 2   BloodPressure             768 non-null    int64  \n",
            " 3   SkinThickness             768 non-null    int64  \n",
            " 4   Insulin                   768 non-null    int64  \n",
            " 5   BMI                       768 non-null    float64\n",
            " 6   DiabetesPedigreeFunction  768 non-null    float64\n",
            " 7   Age                       768 non-null    int64  \n",
            " 8   Outcome                   768 non-null    int64  \n",
            "dtypes: float64(2), int64(7)\n",
            "memory usage: 54.1 KB\n"
          ]
        }
      ]
    },
    {
      "cell_type": "code",
      "source": [
        "# Get all the descriptive statistics in a single table of all the variables\n",
        "data.describe()"
      ],
      "metadata": {
        "colab": {
          "base_uri": "https://localhost:8080/",
          "height": 300
        },
        "id": "WOOoPz94cdJF",
        "outputId": "928c269a-6d2c-40f6-f3bb-ad5a43d65907"
      },
      "execution_count": null,
      "outputs": [
        {
          "output_type": "execute_result",
          "data": {
            "text/plain": [
              "       Pregnancies     Glucose  BloodPressure  SkinThickness     Insulin  \\\n",
              "count   768.000000  768.000000     768.000000     768.000000  768.000000   \n",
              "mean      3.845052  120.894531      69.105469      20.536458   79.799479   \n",
              "std       3.369578   31.972618      19.355807      15.952218  115.244002   \n",
              "min       0.000000    0.000000       0.000000       0.000000    0.000000   \n",
              "25%       1.000000   99.000000      62.000000       0.000000    0.000000   \n",
              "50%       3.000000  117.000000      72.000000      23.000000   30.500000   \n",
              "75%       6.000000  140.250000      80.000000      32.000000  127.250000   \n",
              "max      17.000000  199.000000     122.000000      99.000000  846.000000   \n",
              "\n",
              "              BMI  DiabetesPedigreeFunction         Age     Outcome  \n",
              "count  768.000000                768.000000  768.000000  768.000000  \n",
              "mean    31.992578                  0.471876   33.240885    0.348958  \n",
              "std      7.884160                  0.331329   11.760232    0.476951  \n",
              "min      0.000000                  0.078000   21.000000    0.000000  \n",
              "25%     27.300000                  0.243750   24.000000    0.000000  \n",
              "50%     32.000000                  0.372500   29.000000    0.000000  \n",
              "75%     36.600000                  0.626250   41.000000    1.000000  \n",
              "max     67.100000                  2.420000   81.000000    1.000000  "
            ],
            "text/html": [
              "\n",
              "  <div id=\"df-9e632d8e-aa3e-47f2-ab58-0f8225eeb319\">\n",
              "    <div class=\"colab-df-container\">\n",
              "      <div>\n",
              "<style scoped>\n",
              "    .dataframe tbody tr th:only-of-type {\n",
              "        vertical-align: middle;\n",
              "    }\n",
              "\n",
              "    .dataframe tbody tr th {\n",
              "        vertical-align: top;\n",
              "    }\n",
              "\n",
              "    .dataframe thead th {\n",
              "        text-align: right;\n",
              "    }\n",
              "</style>\n",
              "<table border=\"1\" class=\"dataframe\">\n",
              "  <thead>\n",
              "    <tr style=\"text-align: right;\">\n",
              "      <th></th>\n",
              "      <th>Pregnancies</th>\n",
              "      <th>Glucose</th>\n",
              "      <th>BloodPressure</th>\n",
              "      <th>SkinThickness</th>\n",
              "      <th>Insulin</th>\n",
              "      <th>BMI</th>\n",
              "      <th>DiabetesPedigreeFunction</th>\n",
              "      <th>Age</th>\n",
              "      <th>Outcome</th>\n",
              "    </tr>\n",
              "  </thead>\n",
              "  <tbody>\n",
              "    <tr>\n",
              "      <th>count</th>\n",
              "      <td>768.000000</td>\n",
              "      <td>768.000000</td>\n",
              "      <td>768.000000</td>\n",
              "      <td>768.000000</td>\n",
              "      <td>768.000000</td>\n",
              "      <td>768.000000</td>\n",
              "      <td>768.000000</td>\n",
              "      <td>768.000000</td>\n",
              "      <td>768.000000</td>\n",
              "    </tr>\n",
              "    <tr>\n",
              "      <th>mean</th>\n",
              "      <td>3.845052</td>\n",
              "      <td>120.894531</td>\n",
              "      <td>69.105469</td>\n",
              "      <td>20.536458</td>\n",
              "      <td>79.799479</td>\n",
              "      <td>31.992578</td>\n",
              "      <td>0.471876</td>\n",
              "      <td>33.240885</td>\n",
              "      <td>0.348958</td>\n",
              "    </tr>\n",
              "    <tr>\n",
              "      <th>std</th>\n",
              "      <td>3.369578</td>\n",
              "      <td>31.972618</td>\n",
              "      <td>19.355807</td>\n",
              "      <td>15.952218</td>\n",
              "      <td>115.244002</td>\n",
              "      <td>7.884160</td>\n",
              "      <td>0.331329</td>\n",
              "      <td>11.760232</td>\n",
              "      <td>0.476951</td>\n",
              "    </tr>\n",
              "    <tr>\n",
              "      <th>min</th>\n",
              "      <td>0.000000</td>\n",
              "      <td>0.000000</td>\n",
              "      <td>0.000000</td>\n",
              "      <td>0.000000</td>\n",
              "      <td>0.000000</td>\n",
              "      <td>0.000000</td>\n",
              "      <td>0.078000</td>\n",
              "      <td>21.000000</td>\n",
              "      <td>0.000000</td>\n",
              "    </tr>\n",
              "    <tr>\n",
              "      <th>25%</th>\n",
              "      <td>1.000000</td>\n",
              "      <td>99.000000</td>\n",
              "      <td>62.000000</td>\n",
              "      <td>0.000000</td>\n",
              "      <td>0.000000</td>\n",
              "      <td>27.300000</td>\n",
              "      <td>0.243750</td>\n",
              "      <td>24.000000</td>\n",
              "      <td>0.000000</td>\n",
              "    </tr>\n",
              "    <tr>\n",
              "      <th>50%</th>\n",
              "      <td>3.000000</td>\n",
              "      <td>117.000000</td>\n",
              "      <td>72.000000</td>\n",
              "      <td>23.000000</td>\n",
              "      <td>30.500000</td>\n",
              "      <td>32.000000</td>\n",
              "      <td>0.372500</td>\n",
              "      <td>29.000000</td>\n",
              "      <td>0.000000</td>\n",
              "    </tr>\n",
              "    <tr>\n",
              "      <th>75%</th>\n",
              "      <td>6.000000</td>\n",
              "      <td>140.250000</td>\n",
              "      <td>80.000000</td>\n",
              "      <td>32.000000</td>\n",
              "      <td>127.250000</td>\n",
              "      <td>36.600000</td>\n",
              "      <td>0.626250</td>\n",
              "      <td>41.000000</td>\n",
              "      <td>1.000000</td>\n",
              "    </tr>\n",
              "    <tr>\n",
              "      <th>max</th>\n",
              "      <td>17.000000</td>\n",
              "      <td>199.000000</td>\n",
              "      <td>122.000000</td>\n",
              "      <td>99.000000</td>\n",
              "      <td>846.000000</td>\n",
              "      <td>67.100000</td>\n",
              "      <td>2.420000</td>\n",
              "      <td>81.000000</td>\n",
              "      <td>1.000000</td>\n",
              "    </tr>\n",
              "  </tbody>\n",
              "</table>\n",
              "</div>\n",
              "      <button class=\"colab-df-convert\" onclick=\"convertToInteractive('df-9e632d8e-aa3e-47f2-ab58-0f8225eeb319')\"\n",
              "              title=\"Convert this dataframe to an interactive table.\"\n",
              "              style=\"display:none;\">\n",
              "        \n",
              "  <svg xmlns=\"http://www.w3.org/2000/svg\" height=\"24px\"viewBox=\"0 0 24 24\"\n",
              "       width=\"24px\">\n",
              "    <path d=\"M0 0h24v24H0V0z\" fill=\"none\"/>\n",
              "    <path d=\"M18.56 5.44l.94 2.06.94-2.06 2.06-.94-2.06-.94-.94-2.06-.94 2.06-2.06.94zm-11 1L8.5 8.5l.94-2.06 2.06-.94-2.06-.94L8.5 2.5l-.94 2.06-2.06.94zm10 10l.94 2.06.94-2.06 2.06-.94-2.06-.94-.94-2.06-.94 2.06-2.06.94z\"/><path d=\"M17.41 7.96l-1.37-1.37c-.4-.4-.92-.59-1.43-.59-.52 0-1.04.2-1.43.59L10.3 9.45l-7.72 7.72c-.78.78-.78 2.05 0 2.83L4 21.41c.39.39.9.59 1.41.59.51 0 1.02-.2 1.41-.59l7.78-7.78 2.81-2.81c.8-.78.8-2.07 0-2.86zM5.41 20L4 18.59l7.72-7.72 1.47 1.35L5.41 20z\"/>\n",
              "  </svg>\n",
              "      </button>\n",
              "      \n",
              "  <style>\n",
              "    .colab-df-container {\n",
              "      display:flex;\n",
              "      flex-wrap:wrap;\n",
              "      gap: 12px;\n",
              "    }\n",
              "\n",
              "    .colab-df-convert {\n",
              "      background-color: #E8F0FE;\n",
              "      border: none;\n",
              "      border-radius: 50%;\n",
              "      cursor: pointer;\n",
              "      display: none;\n",
              "      fill: #1967D2;\n",
              "      height: 32px;\n",
              "      padding: 0 0 0 0;\n",
              "      width: 32px;\n",
              "    }\n",
              "\n",
              "    .colab-df-convert:hover {\n",
              "      background-color: #E2EBFA;\n",
              "      box-shadow: 0px 1px 2px rgba(60, 64, 67, 0.3), 0px 1px 3px 1px rgba(60, 64, 67, 0.15);\n",
              "      fill: #174EA6;\n",
              "    }\n",
              "\n",
              "    [theme=dark] .colab-df-convert {\n",
              "      background-color: #3B4455;\n",
              "      fill: #D2E3FC;\n",
              "    }\n",
              "\n",
              "    [theme=dark] .colab-df-convert:hover {\n",
              "      background-color: #434B5C;\n",
              "      box-shadow: 0px 1px 3px 1px rgba(0, 0, 0, 0.15);\n",
              "      filter: drop-shadow(0px 1px 2px rgba(0, 0, 0, 0.3));\n",
              "      fill: #FFFFFF;\n",
              "    }\n",
              "  </style>\n",
              "\n",
              "      <script>\n",
              "        const buttonEl =\n",
              "          document.querySelector('#df-9e632d8e-aa3e-47f2-ab58-0f8225eeb319 button.colab-df-convert');\n",
              "        buttonEl.style.display =\n",
              "          google.colab.kernel.accessAllowed ? 'block' : 'none';\n",
              "\n",
              "        async function convertToInteractive(key) {\n",
              "          const element = document.querySelector('#df-9e632d8e-aa3e-47f2-ab58-0f8225eeb319');\n",
              "          const dataTable =\n",
              "            await google.colab.kernel.invokeFunction('convertToInteractive',\n",
              "                                                     [key], {});\n",
              "          if (!dataTable) return;\n",
              "\n",
              "          const docLinkHtml = 'Like what you see? Visit the ' +\n",
              "            '<a target=\"_blank\" href=https://colab.research.google.com/notebooks/data_table.ipynb>data table notebook</a>'\n",
              "            + ' to learn more about interactive tables.';\n",
              "          element.innerHTML = '';\n",
              "          dataTable['output_type'] = 'display_data';\n",
              "          await google.colab.output.renderOutput(dataTable, element);\n",
              "          const docLink = document.createElement('div');\n",
              "          docLink.innerHTML = docLinkHtml;\n",
              "          element.appendChild(docLink);\n",
              "        }\n",
              "      </script>\n",
              "    </div>\n",
              "  </div>\n",
              "  "
            ]
          },
          "metadata": {},
          "execution_count": 7
        }
      ]
    },
    {
      "cell_type": "code",
      "source": [
        "# Display histograms of each variable with a certain window size\n",
        "data.hist(figsize=(12,8))"
      ],
      "metadata": {
        "colab": {
          "base_uri": "https://localhost:8080/",
          "height": 673
        },
        "id": "ZDPZvj2ucAec",
        "outputId": "dbdfabc4-63e8-41c0-954f-ebfd4d9df739"
      },
      "execution_count": null,
      "outputs": [
        {
          "output_type": "execute_result",
          "data": {
            "text/plain": [
              "array([[<matplotlib.axes._subplots.AxesSubplot object at 0x7fee15b48490>,\n",
              "        <matplotlib.axes._subplots.AxesSubplot object at 0x7fee085b21d0>,\n",
              "        <matplotlib.axes._subplots.AxesSubplot object at 0x7fee085687d0>],\n",
              "       [<matplotlib.axes._subplots.AxesSubplot object at 0x7fee0851fdd0>,\n",
              "        <matplotlib.axes._subplots.AxesSubplot object at 0x7fee084e2410>,\n",
              "        <matplotlib.axes._subplots.AxesSubplot object at 0x7fee08518a10>],\n",
              "       [<matplotlib.axes._subplots.AxesSubplot object at 0x7fee084d0fd0>,\n",
              "        <matplotlib.axes._subplots.AxesSubplot object at 0x7fee08495610>,\n",
              "        <matplotlib.axes._subplots.AxesSubplot object at 0x7fee08495650>]],\n",
              "      dtype=object)"
            ]
          },
          "metadata": {},
          "execution_count": 8
        },
        {
          "output_type": "display_data",
          "data": {
            "text/plain": [
              "<Figure size 864x576 with 9 Axes>"
            ],
            "image/png": "[encoded data removed]"
          },
          "metadata": {
            "needs_background": "light"
          }
        }
      ]
    },
    {
      "cell_type": "code",
      "source": [
        "# Data cleansing\n",
        "# Verify that there are no null records\n",
        "print(data.isnull().sum())"
      ],
      "metadata": {
        "colab": {
          "base_uri": "https://localhost:8080/"
        },
        "id": "njNHRxlNQLEe",
        "outputId": "bb5fa047-f4f5-41bf-cb8d-8510d204e9da"
      },
      "execution_count": null,
      "outputs": [
        {
          "output_type": "stream",
          "name": "stdout",
          "text": [
            "Pregnancies                 0\n",
            "Glucose                     0\n",
            "BloodPressure               0\n",
            "SkinThickness               0\n",
            "Insulin                     0\n",
            "BMI                         0\n",
            "DiabetesPedigreeFunction    0\n",
            "Age                         0\n",
            "Outcome                     0\n",
            "dtype: int64\n"
          ]
        }
      ]
    },
    {
      "cell_type": "code",
      "source": [
        "# Analyze that the data is consistent. For example: glucose and blood pressure cannot be at zero, but pregnancy can.\n",
        "# We eliminate those values that do not make sense\n",
        "print(\"Dimensions before correction: \",data.shape)\n",
        "diabetes=data.drop(data[data['Glucose']==0].index)\n",
        "diabetes=diabetes.drop(diabetes[diabetes['BloodPressure']==0].index)\n",
        "diabetes=diabetes.drop(diabetes[diabetes['BMI']==0].index)\n",
        "diabetes=diabetes.drop(diabetes[diabetes['Insulin']==0].index)\n",
        "diabetes=diabetes.drop(diabetes[diabetes['SkinThickness']==0].index)\n",
        "# Verify correction\n",
        "print(\"Dimensions after correction:\",diabetes.shape)"
      ],
      "metadata": {
        "id": "RZboN1nlRNqD"
      },
      "execution_count": null,
      "outputs": []
    },
    {
      "cell_type": "code",
      "source": [
        "x=diabetes.iloc[:,:-1].values # Save all the columns except the last one (output)\n",
        "x"
      ],
      "metadata": {
        "colab": {
          "base_uri": "https://localhost:8080/"
        },
        "id": "ORsboqPyUgbe",
        "outputId": "0f57ef84-c6bf-4b1c-9e53-c12519c569fc"
      },
      "execution_count": null,
      "outputs": [
        {
          "output_type": "execute_result",
          "data": {
            "text/plain": [
              "array([[  1.   ,  89.   ,  66.   , ...,  28.1  ,   0.167,  21.   ],\n",
              "       [  0.   , 137.   ,  40.   , ...,  43.1  ,   2.288,  33.   ],\n",
              "       [  3.   ,  78.   ,  50.   , ...,  31.   ,   0.248,  26.   ],\n",
              "       ...,\n",
              "       [  2.   ,  88.   ,  58.   , ...,  28.4  ,   0.766,  22.   ],\n",
              "       [ 10.   , 101.   ,  76.   , ...,  32.9  ,   0.171,  63.   ],\n",
              "       [  5.   , 121.   ,  72.   , ...,  26.2  ,   0.245,  30.   ]])"
            ]
          },
          "metadata": {},
          "execution_count": 11
        }
      ]
    },
    {
      "cell_type": "code",
      "source": [
        "y=diabetes.iloc[:,-1].values # Save the outputs of all rows\n",
        "y"
      ],
      "metadata": {
        "colab": {
          "base_uri": "https://localhost:8080/"
        },
        "id": "BJUsJDi3GSoa",
        "outputId": "d095b1a1-262c-45d2-f0b5-b596041a7d95"
      },
      "execution_count": null,
      "outputs": [
        {
          "output_type": "execute_result",
          "data": {
            "text/plain": [
              "array([0, 1, 1, 1, 1, 1, 1, 0, 1, 0, 1, 1, 0, 0, 1, 0, 0, 1, 0, 1, 0, 0,\n",
              "       0, 1, 0, 1, 0, 0, 0, 0, 0, 1, 0, 0, 0, 0, 0, 1, 0, 0, 0, 0, 0, 0,\n",
              "       1, 0, 0, 0, 0, 1, 1, 1, 0, 1, 0, 1, 0, 1, 0, 0, 1, 1, 1, 0, 0, 0,\n",
              "       0, 0, 0, 0, 0, 0, 1, 0, 0, 0, 0, 1, 0, 0, 1, 0, 1, 0, 0, 1, 1, 0,\n",
              "       1, 1, 1, 1, 0, 1, 1, 1, 1, 0, 0, 1, 0, 1, 1, 1, 1, 0, 1, 0, 0, 0,\n",
              "       0, 0, 1, 0, 0, 1, 0, 1, 0, 0, 0, 0, 1, 0, 1, 0, 0, 0, 0, 0, 0, 0,\n",
              "       0, 0, 0, 0, 1, 0, 0, 0, 1, 1, 1, 0, 1, 0, 1, 1, 0, 0, 1, 0, 1, 1,\n",
              "       0, 1, 0, 0, 0, 0, 0, 1, 0, 1, 1, 0, 0, 0, 0, 1, 0, 0, 0, 0, 0, 0,\n",
              "       1, 0, 1, 1, 0, 0, 0, 1, 1, 0, 0, 0, 1, 0, 0, 0, 0, 0, 0, 0, 0, 1,\n",
              "       0, 0, 0, 0, 0, 0, 1, 0, 1, 0, 0, 0, 1, 1, 1, 0, 0, 0, 1, 1, 1, 0,\n",
              "       1, 0, 0, 0, 0, 1, 0, 0, 1, 0, 0, 0, 0, 0, 1, 0, 0, 0, 0, 0, 0, 0,\n",
              "       1, 0, 0, 1, 0, 0, 1, 0, 0, 0, 1, 0, 1, 0, 0, 0, 1, 0, 0, 0, 0, 1,\n",
              "       1, 0, 0, 0, 0, 0, 0, 0, 0, 0, 0, 1, 1, 1, 0, 0, 1, 1, 0, 0, 0, 0,\n",
              "       0, 0, 1, 0, 0, 0, 0, 0, 0, 1, 0, 0, 0, 0, 0, 1, 1, 0, 0, 0, 1, 0,\n",
              "       0, 1, 1, 0, 0, 0, 0, 1, 1, 1, 0, 0, 0, 0, 0, 0, 0, 1, 0, 0, 0, 0,\n",
              "       1, 1, 1, 0, 0, 0, 0, 1, 0, 0, 1, 1, 1, 0, 0, 0, 0, 0, 0, 0, 0, 0,\n",
              "       0, 0, 1, 0, 1, 1, 1, 0, 0, 0, 0, 1, 0, 0, 0, 1, 1, 0, 0, 1, 0, 0,\n",
              "       1, 1, 0, 0, 0, 1, 0, 0, 0, 0, 0, 1, 0, 1, 1, 0, 0, 0])"
            ]
          },
          "metadata": {},
          "execution_count": 12
        }
      ]
    },
    {
      "cell_type": "code",
      "source": [
        "# Standardize data, put them at the same level or ranges\n",
        "x=StandardScaler().fit_transform(x)\n",
        "x"
      ],
      "metadata": {
        "colab": {
          "base_uri": "https://localhost:8080/"
        },
        "id": "uDrHz4SNVc-t",
        "outputId": "86375298-1422-4182-fa58-f42c5801148f"
      },
      "execution_count": null,
      "outputs": [
        {
          "output_type": "execute_result",
          "data": {
            "text/plain": [
              "array([[-0.7174265 , -1.09104581, -0.37365481, ..., -0.710421  ,\n",
              "        -1.03187632, -0.9682991 ],\n",
              "       [-1.02921274,  0.46631407, -2.45696436, ...,  1.42673006,\n",
              "         5.11511079,  0.2095853 ],\n",
              "       [-0.09385402, -1.44794079, -1.65569146, ..., -0.29723846,\n",
              "        -0.79712575, -0.47751393],\n",
              "       ...,\n",
              "       [-0.40564026, -1.12349081, -1.01467313, ..., -0.66767798,\n",
              "         0.70411863, -0.87014206],\n",
              "       [ 2.08864966, -0.70170584,  0.42761809, ..., -0.02653266,\n",
              "        -1.0202837 ,  3.15429628],\n",
              "       [ 0.52971846, -0.05280589,  0.10710893, ..., -0.9811268 ,\n",
              "        -0.80582021, -0.0848858 ]])"
            ]
          },
          "metadata": {},
          "execution_count": 14
        }
      ]
    },
    {
      "cell_type": "code",
      "source": [
        "# Generate seed so that the data does not change and you have the same training and test data set\n",
        "np.random.seed(1)"
      ],
      "metadata": {
        "id": "Le5pUTqCViPP"
      },
      "execution_count": null,
      "outputs": []
    },
    {
      "cell_type": "code",
      "source": [
        "# Split the data into training and test\n",
        "x_train, x_test, y_train, y_test= train_test_split(x,y,test_size=0.3) # Generally 70% is used for training and 30% for testing. Training data must not be the same as test data\n",
        "\n",
        "# Define the multilayer perceptron\n",
        "model=MLPClassifier(solver='lbfgs', max_iter=1000, hidden_layer_sizes=4)\n",
        "# We must establish the parameters and apply the stochastic gradient as optimizer, the maximum number of iterations and the architecture.\n",
        "# The lbfgs optimizer is used for small data sets, adam for large data sets (detects flats and slopes), and sgd for both.\n",
        "\n",
        "# Train the model to find the weights that solve the problem\n",
        "model.fit(x_train,y_train) \n"
      ],
      "metadata": {
        "colab": {
          "base_uri": "https://localhost:8080/"
        },
        "id": "HerG6Q3AWB1s",
        "outputId": "5e83b5e7-fdec-40e8-d84e-667cac3e84c1"
      },
      "execution_count": null,
      "outputs": [
        {
          "output_type": "execute_result",
          "data": {
            "text/plain": [
              "MLPClassifier(hidden_layer_sizes=4, max_iter=1000, solver='lbfgs')"
            ]
          },
          "metadata": {},
          "execution_count": 104
        }
      ]
    },
    {
      "cell_type": "code",
      "source": [
        "# Evaluate the model\n",
        "y_pred=model.predict(x_test)\n",
        "y_pred"
      ],
      "metadata": {
        "colab": {
          "base_uri": "https://localhost:8080/"
        },
        "id": "Ap3pWhreWQbx",
        "outputId": "fbeb317f-fa05-4e8c-8f70-1b03b415b3f6"
      },
      "execution_count": null,
      "outputs": [
        {
          "output_type": "execute_result",
          "data": {
            "text/plain": [
              "array([0, 0, 0, 0, 1, 0, 0, 0, 0, 0, 0, 0, 0, 1, 0, 1, 1, 0, 1, 0, 0, 1,\n",
              "       0, 0, 1, 0, 0, 1, 0, 0, 0, 0, 0, 0, 0, 0, 1, 1, 0, 1, 0, 1, 0, 1,\n",
              "       0, 0, 0, 0, 0, 1, 0, 0, 0, 0, 1, 1, 0, 0, 0, 0, 0, 0, 0, 0, 1, 0,\n",
              "       0, 1, 0, 1, 0, 0, 1, 1, 1, 0, 1, 0, 1, 0, 1, 0, 1, 0, 1, 1, 0, 1,\n",
              "       0, 0, 0, 0, 0, 0, 0, 1, 0, 1, 0, 1, 0, 0, 0, 0, 1, 0, 0, 0, 0, 0,\n",
              "       0, 1, 1, 0, 0, 0, 1, 0])"
            ]
          },
          "metadata": {},
          "execution_count": 105
        }
      ]
    },
    {
      "cell_type": "code",
      "source": [
        "# Check accuracy (number of hits/total data)\n",
        "score=model.score(x_test,y_test)\n",
        "score\n",
        "\n",
        "# If the score is 1.0 the system works 100%"
      ],
      "metadata": {
        "colab": {
          "base_uri": "https://localhost:8080/"
        },
        "id": "E8WkM1SoWSJ-",
        "outputId": "63002ec3-43f4-4977-ac00-d5a04e8553de"
      },
      "execution_count": null,
      "outputs": [
        {
          "output_type": "execute_result",
          "data": {
            "text/plain": [
              "0.7288135593220338"
            ]
          },
          "metadata": {},
          "execution_count": 106
        }
      ]
    },
    {
      "cell_type": "code",
      "source": [
        "# Evaluate the behavior of the model and its results\n",
        "confusionM=confusion_matrix(y_test,y_pred)\n",
        "print(confusionM)\n",
        "# It is necessary to ensure that the precision is good according to the confusion matrix, avoiding large amounts in orange zones.\n",
        "# The numbers represent the number of elements of each class. As well as the combinations between false and positive"
      ],
      "metadata": {
        "colab": {
          "base_uri": "https://localhost:8080/"
        },
        "id": "Di8Zx4gnWUCy",
        "outputId": "6241df44-b8dd-435b-e6e3-f048f1773399"
      },
      "execution_count": null,
      "outputs": [
        {
          "output_type": "stream",
          "name": "stdout",
          "text": [
            "[[66 16]\n",
            " [16 20]]\n"
          ]
        }
      ]
    },
    {
      "cell_type": "markdown",
      "source": [
        "![1_jMs1RmSwnYgR9CsBw-z1dw.png](data:image/png;base64,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)<br>\n",
        "Type I Error: <i>The predicted value is positive but the real one is false</i> <br>\n",
        "Type II Error:<i> The predicted value is false but the real one is positive </i>"
      ],
      "metadata": {
        "id": "CBP-JcKaR51d"
      }
    }
  ]
}