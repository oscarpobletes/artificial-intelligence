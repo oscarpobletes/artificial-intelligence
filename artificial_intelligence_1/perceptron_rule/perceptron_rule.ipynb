{
  "nbformat": 4,
  "nbformat_minor": 0,
  "metadata": {
    "colab": {
      "provenance": []
    },
    "kernelspec": {
      "name": "python3",
      "display_name": "Python 3"
    },
    "language_info": {
      "name": "python"
    }
  },
  "cells": [
    {
      "cell_type": "markdown",
      "source": [
        "#Perceptron rule\n",
        "Óscar Poblete Sáenz <br> Course: Introduction to Artificial Intelligence<br>\n",
        "Teacher: Elizabeth Guevara Martinez<br>\n",
        "Universidad Anáhuac <br>"
      ],
      "metadata": {
        "id": "DkNJnS6TzAr_"
      }
    },
    {
      "cell_type": "code",
      "source": [
        "#Import library\n",
        "import numpy as np"
      ],
      "metadata": {
        "id": "rWr6ZO3d12nz"
      },
      "execution_count": 6,
      "outputs": []
    },
    {
      "cell_type": "code",
      "execution_count": 7,
      "metadata": {
        "id": "eXbkqTziyO5N"
      },
      "outputs": [],
      "source": [
        "# Function that implements the hard limit transfer function (activation function)\n",
        "def hardlim(a):\n",
        " if a >=0:\n",
        "   y=1\n",
        " else:\n",
        "   y=-1\n",
        " return y"
      ]
    },
    {
      "cell_type": "code",
      "source": [
        "# The perceptron learning rule stops the iteration cycle when the value is zero or a minimum value.\n",
        "# Also when a maximum number of iterations is met.\n",
        "def perceptronRule(input, output, epochs): # An epoch refers to one cycle through the full training dataset.\n",
        "# n=number of rows, m=number of columns\n",
        "  n = input.shape[0] # Shape is used for dimensions\n",
        "  m = input.shape[1] \n",
        "# Initialize weights randomly\n",
        "  w=np.random.randn(1,m)\n",
        "# The stopping criterion is used as a maximum number of epochs\n",
        "  for i in range(0, epochs):\n",
        "# Loop through all rows of input array\n",
        "    for j in range(0,n):\n",
        "      x=input[j,:] # Row and all the columns it has, if [:,1] all the rows of the first column\n",
        "# Calculate dot product\n",
        "      a=np.dot(w,x)\n",
        "      y=hardlim(a)\n",
        "# Get the error\n",
        "      error = output[j]-y # j is the desired output\n",
        "# Change the weights according to the error\n",
        "      w = w + error * x # replacement cases\n",
        "\n",
        "  return w"
      ],
      "metadata": {
        "id": "bKbHqi3N0K0R"
      },
      "execution_count": 9,
      "outputs": []
    },
    {
      "cell_type": "markdown",
      "source": [
        "Solve AND with 2 inputs."
      ],
      "metadata": {
        "id": "owjgSqVi50ql"
      }
    },
    {
      "cell_type": "code",
      "source": [
        "def feedForward(weights,input): # Consists of multiplying the weights to verify the compliance of the function\n",
        "  n=input.shape[0] # Input row\n",
        "  y=np.zeros((n,1)) # Fill the vector of size n with zeros\n",
        "  for j in range(0,n):\n",
        "    x=input[j,:]\n",
        "    # Dot product\n",
        "    a=np.dot(weights,x)\n",
        "    # Apply the activation function\n",
        "    y[j]=hardlim(a)\n",
        "  return y\n",
        "\n",
        "\n",
        "  \n",
        "\n"
      ],
      "metadata": {
        "id": "oqB0IQF588b7"
      },
      "execution_count": 10,
      "outputs": []
    },
    {
      "cell_type": "code",
      "source": [
        "  input = np.array([[0,0,-1],[0,1,-1],[1,0,-1],[1,1,-1]]) # The input value of the bias is -1\n",
        "  output = np.array([[-1],[-1],[-1],[1]]) #AND, in this case 0->-1 and 1->1\n",
        "  weights = perceptronRule(input,output,10)\n",
        "  print(weights) # If the last is 0, the line passes through the origin\n",
        "  verification= feedForward(weights,input)\n",
        "  verification"
      ],
      "metadata": {
        "colab": {
          "base_uri": "https://localhost:8080/"
        },
        "id": "SwsQDsfY6ctM",
        "outputId": "01ba2a86-a16c-4a2c-9cd6-3e150cc2ac69"
      },
      "execution_count": 11,
      "outputs": [
        {
          "output_type": "stream",
          "name": "stdout",
          "text": [
            "[[4.70585052 2.04983734 5.30501625]]\n"
          ]
        },
        {
          "output_type": "execute_result",
          "data": {
            "text/plain": [
              "array([[-1.],\n",
              "       [-1.],\n",
              "       [-1.],\n",
              "       [ 1.]])"
            ]
          },
          "metadata": {},
          "execution_count": 11
        }
      ]
    }
  ]
}